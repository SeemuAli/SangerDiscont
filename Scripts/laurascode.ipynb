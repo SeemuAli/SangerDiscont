{
 "cells": [
  {
   "cell_type": "code",
   "execution_count": null,
   "metadata": {},
   "outputs": [],
   "source": [
    "import pandas\n",
    "import numpy\n",
    "\n",
    "\n",
    "ngs= pandas.read_excel(\"tso.xlsx\", sep =\"\\t\")\n",
    "pkhd= pandas.read_excel(\"allgenes.xlsx\", sep =\"\\t\")\n",
    "#print(pkhd)\n",
    "\n",
    "a=0\n",
    "b=0\n",
    "\n",
    "num_rows_ngs=ngs.shape[0]\n",
    "num_rows_pkhd=pkhd.shape[0]\n",
    "pkhd[\"Trusightone\"]=\"\"\n",
    "#print(num_rows_pkhd)\n",
    "\n",
    "while b<num_rows_pkhd:\n",
    "    a=0\n",
    "    #print(b)\n",
    "    while a<num_rows_ngs:\n",
    "        if (ngs.iloc[a,0]==pkhd.iloc[b,0]): \n",
    "            pkhd.iloc[b,2]=\"TrusightOne\"\n",
    "            #print(ngs.iloc[a,0])\n",
    "        a=a+1\n",
    "    b=b+1\n",
    "    \n",
    "pkhd.to_csv(\"WNT10_results.txt\", index=None, sep=\"\\t\")\n",
    "\n",
    "print(pkhd)\n",
    "    "
   ]
  },
  {
   "cell_type": "code",
   "execution_count": null,
   "metadata": {},
   "outputs": [],
   "source": [
    "print(\"c\")"
   ]
  },
  {
   "cell_type": "code",
   "execution_count": null,
   "metadata": {},
   "outputs": [],
   "source": []
  },
  {
   "cell_type": "code",
   "execution_count": null,
   "metadata": {},
   "outputs": [],
   "source": []
  },
  {
   "cell_type": "code",
   "execution_count": null,
   "metadata": {},
   "outputs": [],
   "source": []
  },
  {
   "cell_type": "code",
   "execution_count": null,
   "metadata": {},
   "outputs": [],
   "source": []
  },
  {
   "cell_type": "code",
   "execution_count": null,
   "metadata": {},
   "outputs": [],
   "source": []
  }
 ],
 "metadata": {
  "kernelspec": {
   "display_name": "Python 3",
   "language": "python",
   "name": "python3"
  },
  "language_info": {
   "codemirror_mode": {
    "name": "ipython",
    "version": 3
   },
   "file_extension": ".py",
   "mimetype": "text/x-python",
   "name": "python",
   "nbconvert_exporter": "python",
   "pygments_lexer": "ipython3",
   "version": "3.7.3"
  }
 },
 "nbformat": 4,
 "nbformat_minor": 2
}
