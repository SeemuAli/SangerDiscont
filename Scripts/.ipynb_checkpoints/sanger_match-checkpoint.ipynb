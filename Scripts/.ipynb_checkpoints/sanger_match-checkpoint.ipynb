{
 "cells": [
  {
   "cell_type": "markdown",
   "metadata": {},
   "source": [
    "# Generate 2_test_list.xlsx"
   ]
  },
  {
   "cell_type": "code",
   "execution_count": 5,
   "metadata": {},
   "outputs": [],
   "source": [
    "'''\n",
    "Date: 18.07.19\n",
    "Author: Seemu Ali \n",
    "Description: list of all tso samples that have possibly had a follow-up sanger test \n",
    "Disclaimer: This result needs to be filtered to the exact genes tested in sanger. \n",
    "'''\n",
    "import pandas as pd \n",
    "import xlsxwriter as ex\n",
    "\n",
    "tso = pd.read_excel('/Users/seemuali/Sanger_discont/Data/reference/1_tso.xlsx') # load in file with tso samples as ref\n",
    "sanger = pd.read_excel('/Users/seemuali/Sanger_discont/Data/reference/Alltests.xlsx')  #load in file with all sanger tests \n",
    "\n",
    "id_1 = tso['LABNO1'].tolist()\n",
    "test_1 = tso['TEST'].tolist()\n",
    "\n",
    "id_2 = sanger['LABNO'].tolist() \n",
    "i=0\n",
    "sang_id = []\n",
    "\n",
    "for x in id_2:\n",
    "    i = i+1\n",
    "    id=(x + f'_{i}')\n",
    "    sang_id.append(id)\n",
    "\n",
    "test_2 = sanger['TEST'].tolist()\n",
    "\n",
    "tso_dict = dict(zip(id_1, test_1))\n",
    "gene_dict = dict(zip(sang_id, test_2))\n",
    "\n",
    "labno = []\n",
    "test = []\n",
    "\n",
    "\n",
    "for lab_no1 in tso_dict.items():\n",
    "    lab_no1 = str(lab_no1[0])\n",
    "    for lab_no2 in gene_dict.items():\n",
    "        if lab_no1 in lab_no2[0]:\n",
    "            labno.append(lab_no2[0])\n",
    "            test.append(lab_no2[1])\n",
    "            #print(z[0] + z[1])\n",
    "            \n",
    "match_dict=dict(zip(labno, test))\n",
    "df = pd.DataFrame([(k, v) for k, v in match_dict.items()], columns= ['LABNO', 'TEST'])\n",
    "df.to_excel(r'/Users/seemuali/Sanger_discont/Data/reference/2_test_list_copy.xlsx')\n",
    "\n",
    "\n",
    "#print(df)\n",
    "#print(len(match_dict)) #1255\n",
    "#print(len(gene_dict)) #116660"
   ]
  },
  {
   "cell_type": "code",
   "execution_count": null,
   "metadata": {},
   "outputs": [],
   "source": []
  },
  {
   "cell_type": "code",
   "execution_count": null,
   "metadata": {},
   "outputs": [],
   "source": []
  }
 ],
 "metadata": {
  "kernelspec": {
   "display_name": "Python 3",
   "language": "python",
   "name": "python3"
  },
  "language_info": {
   "codemirror_mode": {
    "name": "ipython",
    "version": 3
   },
   "file_extension": ".py",
   "mimetype": "text/x-python",
   "name": "python",
   "nbconvert_exporter": "python",
   "pygments_lexer": "ipython3",
   "version": "3.7.3"
  }
 },
 "nbformat": 4,
 "nbformat_minor": 2
}
