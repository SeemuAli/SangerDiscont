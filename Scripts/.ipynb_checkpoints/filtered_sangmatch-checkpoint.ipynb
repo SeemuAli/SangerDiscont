{
 "cells": [
  {
   "cell_type": "markdown",
   "metadata": {},
   "source": [
    "# Generate 2_testlist_filtered.xlsx\n",
    "\n",
    "# & 4_sang_noreport.xlsx"
   ]
  },
  {
   "cell_type": "code",
   "execution_count": 149,
   "metadata": {},
   "outputs": [
    {
     "data": {
      "text/plain": [
       "'\\n#print(df)\\nprint(len(gene_dict)) #1255\\nprint(len(match_dict)) #1238\\nprint(len(no_match_dict)) #17\\n'"
      ]
     },
     "execution_count": 149,
     "metadata": {},
     "output_type": "execute_result"
    }
   ],
   "source": [
    "'''\n",
    "Date: 18.07.19\n",
    "Author: Seemu Ali \n",
    "Description: list of all samples that have had sanger test and NGS TSO and also have report in shire\n",
    "Disclaimer: This does not mean the report is based on TSO - the patient could have report on a different test. \n",
    "However, this provides a list of samples that have possibly had sanger confirmation if report is attached. \n",
    "List would need to be filtered down to sanger tests relevant to TSO - this is done on excel (see Data/Sanger_tsosamples). \n",
    "'''\n",
    "\n",
    "import pandas as pd \n",
    "import xlsxwriter as ex\n",
    "\n",
    "report = pd.read_excel('/Users/seemuali/Sanger_discont/Data/reference/3_report_list.xlsx') \n",
    "sanger = pd.read_excel('/Users/seemuali/Sanger_discont/Data/reference/2_test_list.xlsx') \n",
    "\n",
    "reported_no = report['LABNO'].tolist()\n",
    "\n",
    "\n",
    "id_2 = sanger['LABNO'].tolist() \n",
    "test_2 = sanger['TEST'].tolist()\n",
    "\n",
    "gene_dict = dict(zip(id_2, test_2))\n",
    "\n",
    "labno = []\n",
    "test = []\n",
    "\n",
    "\n",
    "\n",
    "for lab_no1 in reported_no:\n",
    "    for lab_no2 in gene_dict.items():\n",
    "        if lab_no1 in lab_no2[0]:\n",
    "            labno.append(lab_no2[0])\n",
    "            test.append(lab_no2[1])\n",
    "            #print(z[0] + z[1])            \n",
    "            \n",
    "match_dict=dict(zip(labno, test))\n",
    "\n",
    "labno_NM = []\n",
    "test_NM = []\n",
    "for lab_no2 in gene_dict.items():\n",
    "    for x in match_dict:\n",
    "        if lab_no2[0] not in match_dict:\n",
    "            labno_NM.append(lab_no2[0])\n",
    "            test_NM.append(lab_no2[1])\n",
    "            \n",
    "no_match_dict=dict(zip(labno_NM, test_NM))\n",
    "\n",
    "df = pd.DataFrame([(k, v) for k, v in match_dict.items()], columns= ['LABNO', 'TEST'])\n",
    "df.to_excel(r'/Users/seemuali/Sanger_discont/Data/2_testlist_filtered.xlsx')\n",
    "\n",
    "df2 = pd.DataFrame([(k, v) for k, v in no_match_dict.items()], columns= ['LABNO', 'TEST'])\n",
    "df2.to_excel(r'/Users/seemuali/Sanger_discont/Data/4_sang_noreport.xlsx')\n",
    "\n",
    "\n",
    "'''\n",
    "#print(df)\n",
    "print(len(gene_dict)) #1255\n",
    "print(len(match_dict)) #1238\n",
    "print(len(no_match_dict)) #17\n",
    "'''\n",
    "\n"
   ]
  },
  {
   "cell_type": "code",
   "execution_count": null,
   "metadata": {},
   "outputs": [],
   "source": []
  },
  {
   "cell_type": "code",
   "execution_count": null,
   "metadata": {},
   "outputs": [],
   "source": [
    "\n",
    "\n",
    "\n"
   ]
  },
  {
   "cell_type": "code",
   "execution_count": null,
   "metadata": {},
   "outputs": [],
   "source": []
  }
 ],
 "metadata": {
  "kernelspec": {
   "display_name": "Python 3",
   "language": "python",
   "name": "python3"
  },
  "language_info": {
   "codemirror_mode": {
    "name": "ipython",
    "version": 3
   },
   "file_extension": ".py",
   "mimetype": "text/x-python",
   "name": "python",
   "nbconvert_exporter": "python",
   "pygments_lexer": "ipython3",
   "version": "3.7.3"
  }
 },
 "nbformat": 4,
 "nbformat_minor": 2
}
