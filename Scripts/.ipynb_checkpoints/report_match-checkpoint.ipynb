{
 "cells": [
  {
   "cell_type": "markdown",
   "metadata": {},
   "source": [
    "# Generate 3_report_list.xlsx"
   ]
  },
  {
   "cell_type": "code",
   "execution_count": 2,
   "metadata": {},
   "outputs": [
    {
     "ename": "KeyboardInterrupt",
     "evalue": "",
     "output_type": "error",
     "traceback": [
      "\u001b[0;31m---------------------------------------------------------------------------\u001b[0m",
      "\u001b[0;31mKeyboardInterrupt\u001b[0m                         Traceback (most recent call last)",
      "\u001b[0;32m<ipython-input-2-0744aa3859fb>\u001b[0m in \u001b[0;36m<module>\u001b[0;34m\u001b[0m\n\u001b[1;32m     18\u001b[0m \u001b[0;32mfor\u001b[0m \u001b[0mtso_id\u001b[0m \u001b[0;32min\u001b[0m \u001b[0mid_1\u001b[0m\u001b[0;34m:\u001b[0m\u001b[0;34m\u001b[0m\u001b[0;34m\u001b[0m\u001b[0m\n\u001b[1;32m     19\u001b[0m     \u001b[0;32mfor\u001b[0m \u001b[0mreport_id\u001b[0m \u001b[0;32min\u001b[0m \u001b[0mid_2\u001b[0m\u001b[0;34m:\u001b[0m\u001b[0;34m\u001b[0m\u001b[0;34m\u001b[0m\u001b[0m\n\u001b[0;32m---> 20\u001b[0;31m         \u001b[0;32mif\u001b[0m \u001b[0mtso_id\u001b[0m \u001b[0;32min\u001b[0m \u001b[0mid_2\u001b[0m\u001b[0;34m:\u001b[0m\u001b[0;34m\u001b[0m\u001b[0;34m\u001b[0m\u001b[0m\n\u001b[0m\u001b[1;32m     21\u001b[0m             \u001b[0mmatch_list\u001b[0m\u001b[0;34m.\u001b[0m\u001b[0mappend\u001b[0m\u001b[0;34m(\u001b[0m\u001b[0mtso_id\u001b[0m\u001b[0;34m)\u001b[0m\u001b[0;34m\u001b[0m\u001b[0;34m\u001b[0m\u001b[0m\n\u001b[1;32m     22\u001b[0m \u001b[0;34m\u001b[0m\u001b[0m\n",
      "\u001b[0;31mKeyboardInterrupt\u001b[0m: "
     ]
    }
   ],
   "source": [
    "'''\n",
    "Date: 18.07.19\n",
    "Author: Seemu Ali \n",
    "Description: list of all tso sample ID's that have a report in shire.\n",
    "Disclaimer: This does not mean the report is based on TSO - the patient could have report on a different. \n",
    "'''\n",
    "import pandas as pd \n",
    "import xlsxwriter as ex\n",
    "\n",
    "tso = pd.read_excel('/Users/seemuali/Sanger_discont/Data/reference/1_tso.xlsx') \n",
    "report = pd.read_excel('/Users/seemuali/Sanger_discont/Data/reference/report_id.xlsx')   \n",
    "\n",
    "id_1 = tso['LABNO1'].tolist()\n",
    "id_2 = report['LABNO'].tolist() \n",
    "\n",
    "match_list = []\n",
    "\n",
    "for tso_id in id_1:\n",
    "    for report_id in id_2:\n",
    "        if tso_id in id_2:\n",
    "            match_list.append(tso_id)\n",
    "\n",
    "unique_id = []\n",
    "\n",
    "file = open(\"report_match.txt\", 'w')  #imported into excel and renamed /Data/reference/3_report_list.xlsx\n",
    "for lab_no in match_list:\n",
    "    if lab_no not in unique_id:\n",
    "        unique_id.append(lab_no)\n",
    "        \n",
    "for row in unique_id:\n",
    "    file.write(row)\n",
    "    file.write('\\n')\n",
    "print(len(unique_id))\n",
    "    \n",
    "file.close()\n",
    "\n",
    "\n",
    "non_match = (id_1 - id_2)\n",
    "file = open(\"report_no_match.txt\", 'w')\n",
    "for lab_id in non_match:\n",
    "    file.write(str(lab_id))\n",
    "    file.write('\\n')\n",
    "    \n",
    "file.close()"
   ]
  },
  {
   "cell_type": "code",
   "execution_count": null,
   "metadata": {},
   "outputs": [],
   "source": []
  },
  {
   "cell_type": "code",
   "execution_count": null,
   "metadata": {},
   "outputs": [],
   "source": []
  },
  {
   "cell_type": "code",
   "execution_count": null,
   "metadata": {},
   "outputs": [],
   "source": []
  },
  {
   "cell_type": "code",
   "execution_count": null,
   "metadata": {},
   "outputs": [],
   "source": []
  },
  {
   "cell_type": "code",
   "execution_count": null,
   "metadata": {},
   "outputs": [],
   "source": [
    "\n",
    "    "
   ]
  },
  {
   "cell_type": "code",
   "execution_count": null,
   "metadata": {},
   "outputs": [],
   "source": []
  }
 ],
 "metadata": {
  "kernelspec": {
   "display_name": "Python 3",
   "language": "python",
   "name": "python3"
  },
  "language_info": {
   "codemirror_mode": {
    "name": "ipython",
    "version": 3
   },
   "file_extension": ".py",
   "mimetype": "text/x-python",
   "name": "python",
   "nbconvert_exporter": "python",
   "pygments_lexer": "ipython3",
   "version": "3.7.3"
  }
 },
 "nbformat": 4,
 "nbformat_minor": 2
}
